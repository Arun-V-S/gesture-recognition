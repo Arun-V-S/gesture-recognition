{
 "cells": [
  {
   "cell_type": "markdown",
   "metadata": {},
   "source": [
    "# Gesture Recognition"
   ]
  },
  {
   "cell_type": "code",
   "execution_count": 1,
   "metadata": {},
   "outputs": [],
   "source": [
    "import numpy as np\n",
    "import os\n",
    "from scipy.misc import imread, imresize\n",
    "import datetime\n",
    "import os"
   ]
  },
  {
   "cell_type": "markdown",
   "metadata": {},
   "source": [
    "We set the random seed so that the results don't vary drastically."
   ]
  },
  {
   "cell_type": "code",
   "execution_count": 12,
   "metadata": {},
   "outputs": [],
   "source": [
    "np.random.seed(30)\n",
    "import random as rn\n",
    "rn.seed(30)\n",
    "from keras import backend as K\n",
    "import tensorflow as tf\n",
    "tf.set_random_seed(30)"
   ]
  },
  {
   "cell_type": "markdown",
   "metadata": {},
   "source": [
    "In this block, you read the folder names for training and validation. You also set the `batch_size` here. Note that you set the batch size in such a way that you are able to use the GPU in full capacity. You keep increasing the batch size until the machine throws an error."
   ]
  },
  {
   "cell_type": "code",
   "execution_count": 13,
   "metadata": {},
   "outputs": [],
   "source": [
    "train_doc = np.random.permutation(open('./train.csv').readlines())\n",
    "val_doc = np.random.permutation(open('./val.csv').readlines())\n",
    "batch_size = 10"
   ]
  },
  {
   "cell_type": "markdown",
   "metadata": {},
   "source": [
    "## Generator\n",
    "This is one of the most important part of the code. The overall structure of the generator has been given. In the generator, you are going to preprocess the images as you have images of 2 different dimensions as well as create a batch of video frames. You have to experiment with some of the parts of the generator function such that you get high accuracy."
   ]
  },
  {
   "cell_type": "code",
   "execution_count": 14,
   "metadata": {},
   "outputs": [],
   "source": [
    "def generator(source_path, folder_list, batch_size):\n",
    "    print( 'Source path = ', source_path, '; batch size =', batch_size)\n",
    "    img_idx = [0,1,2,4,6,8,10,12,14,16,18,20,22,24,26,27,28,29]\n",
    "    while True:\n",
    "        t = np.random.permutation(folder_list)\n",
    "        num_batches = int(len(t)/batch_size)\n",
    "        for batch in range(num_batches):\n",
    "            batch_data = np.zeros((batch_size,18,84,84,3))\n",
    "            batch_labels = np.zeros((batch_size,5))\n",
    "            for folder in range(batch_size):\n",
    "                imgs = os.listdir(source_path+'/'+ t[folder + (batch*batch_size)].split(';')[0])\n",
    "                for idx,item in enumerate(img_idx):\n",
    "                    image = imread(source_path+'/'+ t[folder + (batch*batch_size)].strip().split(';')[0]+'/'+imgs[item]).astype(np.float32)\n",
    "                    if image.shape[1] == 160:\n",
    "                        image = imresize(image[:,20:140,:],(84,84)).astype(np.float32)\n",
    "                    else:\n",
    "                        image = imresize(image,(84,84)).astype(np.float32)\n",
    "                    \n",
    "                    batch_data[folder,idx,:,:,0] = image[:,:,0] - 104\n",
    "                    batch_data[folder,idx,:,:,1] = image[:,:,1] - 117\n",
    "                    batch_data[folder,idx,:,:,2] = image[:,:,2] - 123\n",
    "                    \n",
    "                batch_labels[folder, int(t[folder + (batch*batch_size)].strip().split(';')[2])] = 1\n",
    "            yield batch_data, batch_labels\n",
    "\n",
    "        if (len(t)%batch_size) != 0:\n",
    "            batch_data = np.zeros((len(t)%batch_size,18,84,84,3))\n",
    "            batch_labels = np.zeros((len(t)%batch_size,5))\n",
    "            for folder in range(len(t)%batch_size):\n",
    "                imgs = os.listdir(source_path+'/'+ t[folder + (num_batches*batch_size)].split(';')[0])\n",
    "                for idx,item in enumerate(img_idx):\n",
    "                    image = imread(source_path+'/'+ t[folder + (num_batches*batch_size)].strip().split(';')[0]+'/'+imgs[item]).astype(np.float32)\n",
    "                    if image.shape[1] == 160:\n",
    "                        image = imresize(image[:,20:140,:],(84,84)).astype(np.float32)\n",
    "                    else:\n",
    "                        image = imresize(image,(84,84)).astype(np.float32)\n",
    "\n",
    "                    batch_data[folder,idx,:,:,0] = image[:,:,0] - 104\n",
    "                    batch_data[folder,idx,:,:,1] = image[:,:,1] - 117\n",
    "                    batch_data[folder,idx,:,:,2] = image[:,:,2] - 123\n",
    "\n",
    "                batch_labels[folder, int(t[folder + (num_batches*batch_size)].strip().split(';')[2])] = 1\n",
    "\n",
    "            yield batch_data, batch_labels"
   ]
  },
  {
   "cell_type": "code",
   "execution_count": 15,
   "metadata": {},
   "outputs": [
    {
     "name": "stdout",
     "output_type": "stream",
     "text": [
      "# training sequences = 663\n",
      "# validation sequences = 100\n",
      "# epochs = 30\n"
     ]
    }
   ],
   "source": [
    "curr_dt_time = datetime.datetime.now()\n",
    "train_path = './train'\n",
    "val_path = './val'\n",
    "num_train_sequences = len(train_doc)\n",
    "print('# training sequences =', num_train_sequences)\n",
    "num_val_sequences = len(val_doc)\n",
    "print('# validation sequences =', num_val_sequences)\n",
    "num_epochs = 30\n",
    "print ('# epochs =', num_epochs)"
   ]
  },
  {
   "cell_type": "markdown",
   "metadata": {},
   "source": [
    "## Model\n",
    "Here you make the model using different functionalities that Keras provides. Remember to use `Conv3D` and `MaxPooling3D` and not `Conv2D` and `Maxpooling2D`. Also remember that the last layer is the softmax. Remember that the network is designed in such a way that the model is able to fit in the memory of the webcam."
   ]
  },
  {
   "cell_type": "code",
   "execution_count": 16,
   "metadata": {},
   "outputs": [],
   "source": [
    "from keras.models import Sequential\n",
    "from keras.layers import Dense, GRU, Dropout, Flatten, BatchNormalization, Activation\n",
    "from keras.layers.convolutional import Conv3D, MaxPooling3D\n",
    "from keras.callbacks import ModelCheckpoint, ReduceLROnPlateau\n",
    "from keras import optimizers\n",
    "\n",
    "model = Sequential()\n",
    "model.add(Conv3D(64, (3,3,3), strides=(1,1,1), padding='same', input_shape=(18,84,84,3)))\n",
    "model.add(BatchNormalization())\n",
    "model.add(Activation('relu'))\n",
    "model.add(MaxPooling3D(pool_size=(2,2,1), strides=(2,2,1)))\n",
    "\n",
    "model.add(Conv3D(128, (3,3,3), strides=(1,1,1), padding='same'))\n",
    "model.add(BatchNormalization())\n",
    "model.add(Activation('relu'))\n",
    "model.add(MaxPooling3D(pool_size=(2,2,2), strides=(2,2,2)))\n",
    "\n",
    "model.add(Conv3D(256, (3,3,3), strides=(1,1,1), padding='same'))\n",
    "model.add(BatchNormalization())\n",
    "model.add(Activation('relu'))\n",
    "model.add(MaxPooling3D(pool_size=(2,2,2), strides=(2,2,2)))\n",
    "\n",
    "model.add(Conv3D(256, (3,3,3), strides=(1,1,1), padding='same'))\n",
    "model.add(BatchNormalization())\n",
    "model.add(Activation('relu'))\n",
    "model.add(MaxPooling3D(pool_size=(2,2,2), strides=(2,2,2)))\n",
    "\n",
    "model.add(Flatten())\n",
    "model.add(Dropout(0.5))\n",
    "model.add(Dense(512, activation='relu'))\n",
    "model.add(Dropout(0.5))\n",
    "model.add(Dense(5, activation='softmax'))"
   ]
  },
  {
   "cell_type": "markdown",
   "metadata": {},
   "source": [
    "Now that you have written the model, the next step is to `compile` the model. When you print the `summary` of the model, you'll see the total number of parameters you have to train."
   ]
  },
  {
   "cell_type": "code",
   "execution_count": 17,
   "metadata": {},
   "outputs": [
    {
     "name": "stdout",
     "output_type": "stream",
     "text": [
      "_________________________________________________________________\n",
      "Layer (type)                 Output Shape              Param #   \n",
      "=================================================================\n",
      "conv3d_5 (Conv3D)            (None, 18, 84, 84, 64)    5248      \n",
      "_________________________________________________________________\n",
      "batch_normalization_5 (Batch (None, 18, 84, 84, 64)    256       \n",
      "_________________________________________________________________\n",
      "activation_5 (Activation)    (None, 18, 84, 84, 64)    0         \n",
      "_________________________________________________________________\n",
      "max_pooling3d_5 (MaxPooling3 (None, 9, 42, 84, 64)     0         \n",
      "_________________________________________________________________\n",
      "conv3d_6 (Conv3D)            (None, 9, 42, 84, 128)    221312    \n",
      "_________________________________________________________________\n",
      "batch_normalization_6 (Batch (None, 9, 42, 84, 128)    512       \n",
      "_________________________________________________________________\n",
      "activation_6 (Activation)    (None, 9, 42, 84, 128)    0         \n",
      "_________________________________________________________________\n",
      "max_pooling3d_6 (MaxPooling3 (None, 4, 21, 42, 128)    0         \n",
      "_________________________________________________________________\n",
      "conv3d_7 (Conv3D)            (None, 4, 21, 42, 256)    884992    \n",
      "_________________________________________________________________\n",
      "batch_normalization_7 (Batch (None, 4, 21, 42, 256)    1024      \n",
      "_________________________________________________________________\n",
      "activation_7 (Activation)    (None, 4, 21, 42, 256)    0         \n",
      "_________________________________________________________________\n",
      "max_pooling3d_7 (MaxPooling3 (None, 2, 10, 21, 256)    0         \n",
      "_________________________________________________________________\n",
      "conv3d_8 (Conv3D)            (None, 2, 10, 21, 256)    1769728   \n",
      "_________________________________________________________________\n",
      "batch_normalization_8 (Batch (None, 2, 10, 21, 256)    1024      \n",
      "_________________________________________________________________\n",
      "activation_8 (Activation)    (None, 2, 10, 21, 256)    0         \n",
      "_________________________________________________________________\n",
      "max_pooling3d_8 (MaxPooling3 (None, 1, 5, 10, 256)     0         \n",
      "_________________________________________________________________\n",
      "flatten_2 (Flatten)          (None, 12800)             0         \n",
      "_________________________________________________________________\n",
      "dropout_3 (Dropout)          (None, 12800)             0         \n",
      "_________________________________________________________________\n",
      "dense_3 (Dense)              (None, 512)               6554112   \n",
      "_________________________________________________________________\n",
      "dropout_4 (Dropout)          (None, 512)               0         \n",
      "_________________________________________________________________\n",
      "dense_4 (Dense)              (None, 5)                 2565      \n",
      "=================================================================\n",
      "Total params: 9,440,773\n",
      "Trainable params: 9,439,365\n",
      "Non-trainable params: 1,408\n",
      "_________________________________________________________________\n",
      "None\n"
     ]
    }
   ],
   "source": [
    "sgd = optimizers.SGD(lr=0.001, decay=1e-6, momentum=0.7, nesterov=True)\n",
    "model.compile(optimizer=sgd, loss='categorical_crossentropy', metrics=['categorical_accuracy'])\n",
    "print (model.summary())"
   ]
  },
  {
   "cell_type": "markdown",
   "metadata": {},
   "source": [
    "Let us create the `train_generator` and the `val_generator` which will be used in `.fit_generator`."
   ]
  },
  {
   "cell_type": "code",
   "execution_count": 18,
   "metadata": {},
   "outputs": [],
   "source": [
    "train_generator = generator(train_path, train_doc, batch_size)\n",
    "val_generator = generator(val_path, val_doc, batch_size)"
   ]
  },
  {
   "cell_type": "code",
   "execution_count": 19,
   "metadata": {},
   "outputs": [
    {
     "name": "stderr",
     "output_type": "stream",
     "text": [
      "/mnt/disks/user/anaconda3/lib/python3.6/site-packages/keras/callbacks.py:999: UserWarning: `epsilon` argument is deprecated and will be removed, use `min_delta` instead.\n",
      "  warnings.warn('`epsilon` argument is deprecated and '\n"
     ]
    }
   ],
   "source": [
    "model_name = 'model_init' + '_' + str(curr_dt_time).replace(' ','').replace(':','_') + '/'\n",
    "    \n",
    "if not os.path.exists(model_name):\n",
    "    os.mkdir(model_name)\n",
    "        \n",
    "filepath = model_name + 'model-{epoch:05d}-{loss:.5f}-{categorical_accuracy:.5f}-{val_loss:.5f}-{val_categorical_accuracy:.5f}.h5'\n",
    "\n",
    "checkpoint = ModelCheckpoint(filepath, monitor='val_loss', verbose=1, save_best_only=False, save_weights_only=False, mode='auto', period=1)\n",
    "\n",
    "LR = ReduceLROnPlateau(monitor='val_loss', factor=0.5, patience=2, verbose=1, mode='min', epsilon=0.0001, cooldown=0, min_lr=0.00001)\n",
    "callbacks_list = [checkpoint, LR]"
   ]
  },
  {
   "cell_type": "code",
   "execution_count": 20,
   "metadata": {},
   "outputs": [],
   "source": [
    "if (num_train_sequences%batch_size) == 0:\n",
    "    steps_per_epoch = int(num_train_sequences/batch_size)\n",
    "else:\n",
    "    steps_per_epoch = (num_train_sequences//batch_size) + 1\n",
    "\n",
    "if (num_val_sequences%batch_size) == 0:\n",
    "    validation_steps = int(num_val_sequences/batch_size)\n",
    "else:\n",
    "    validation_steps = (num_val_sequences//batch_size) + 1"
   ]
  },
  {
   "cell_type": "markdown",
   "metadata": {},
   "source": [
    "Let us now fit the model. This will start training the model and with the help of the checkpoints, you'll be able to save the model at the end of each epoch."
   ]
  },
  {
   "cell_type": "code",
   "execution_count": 21,
   "metadata": {},
   "outputs": [
    {
     "name": "stdout",
     "output_type": "stream",
     "text": [
      "Source path =  ./val ; batch size = 10\n",
      "Source path =  ./train ; batch size = 10\n",
      "Epoch 1/30\n"
     ]
    },
    {
     "name": "stderr",
     "output_type": "stream",
     "text": [
      "/mnt/disks/user/anaconda3/lib/python3.6/site-packages/ipykernel_launcher.py:13: DeprecationWarning: `imread` is deprecated!\n",
      "`imread` is deprecated in SciPy 1.0.0, and will be removed in 1.2.0.\n",
      "Use ``imageio.imread`` instead.\n",
      "  del sys.path[0]\n",
      "/mnt/disks/user/anaconda3/lib/python3.6/site-packages/ipykernel_launcher.py:15: DeprecationWarning: `imresize` is deprecated!\n",
      "`imresize` is deprecated in SciPy 1.0.0, and will be removed in 1.2.0.\n",
      "Use ``skimage.transform.resize`` instead.\n",
      "  from ipykernel import kernelapp as app\n",
      "/mnt/disks/user/anaconda3/lib/python3.6/site-packages/ipykernel_launcher.py:17: DeprecationWarning: `imresize` is deprecated!\n",
      "`imresize` is deprecated in SciPy 1.0.0, and will be removed in 1.2.0.\n",
      "Use ``skimage.transform.resize`` instead.\n"
     ]
    },
    {
     "name": "stdout",
     "output_type": "stream",
     "text": [
      "65/67 [============================>.] - ETA: 3s - loss: 3.1421 - categorical_accuracy: 0.2938"
     ]
    },
    {
     "name": "stderr",
     "output_type": "stream",
     "text": [
      "/mnt/disks/user/anaconda3/lib/python3.6/site-packages/ipykernel_launcher.py:32: DeprecationWarning: `imread` is deprecated!\n",
      "`imread` is deprecated in SciPy 1.0.0, and will be removed in 1.2.0.\n",
      "Use ``imageio.imread`` instead.\n",
      "/mnt/disks/user/anaconda3/lib/python3.6/site-packages/ipykernel_launcher.py:34: DeprecationWarning: `imresize` is deprecated!\n",
      "`imresize` is deprecated in SciPy 1.0.0, and will be removed in 1.2.0.\n",
      "Use ``skimage.transform.resize`` instead.\n"
     ]
    },
    {
     "name": "stdout",
     "output_type": "stream",
     "text": [
      "67/67 [==============================] - 118s 2s/step - loss: 3.1196 - categorical_accuracy: 0.2881 - val_loss: 1.9488 - val_categorical_accuracy: 0.3000\n",
      "\n",
      "Epoch 00001: saving model to model_init_2019-09-2315_47_36.115999/model-00001-3.12791-0.29110-1.94879-0.30000.h5\n",
      "Epoch 2/30\n",
      "67/67 [==============================] - 64s 961ms/step - loss: 1.4271 - categorical_accuracy: 0.4483 - val_loss: 1.0217 - val_categorical_accuracy: 0.6500\n",
      "\n",
      "Epoch 00002: saving model to model_init_2019-09-2315_47_36.115999/model-00002-1.42855-0.44947-1.02168-0.65000.h5\n",
      "Epoch 3/30\n",
      "57/67 [========================>.....] - ETA: 7s - loss: 1.2432 - categorical_accuracy: 0.4825"
     ]
    },
    {
     "name": "stderr",
     "output_type": "stream",
     "text": [
      "/mnt/disks/user/anaconda3/lib/python3.6/site-packages/ipykernel_launcher.py:36: DeprecationWarning: `imresize` is deprecated!\n",
      "`imresize` is deprecated in SciPy 1.0.0, and will be removed in 1.2.0.\n",
      "Use ``skimage.transform.resize`` instead.\n"
     ]
    },
    {
     "name": "stdout",
     "output_type": "stream",
     "text": [
      "67/67 [==============================] - 55s 816ms/step - loss: 1.2432 - categorical_accuracy: 0.4831 - val_loss: 1.0680 - val_categorical_accuracy: 0.6100\n",
      "\n",
      "Epoch 00003: saving model to model_init_2019-09-2315_47_36.115999/model-00003-1.24235-0.48115-1.06799-0.61000.h5\n",
      "Epoch 4/30\n",
      "67/67 [==============================] - 55s 814ms/step - loss: 1.1308 - categorical_accuracy: 0.5134 - val_loss: 0.9496 - val_categorical_accuracy: 0.7000\n",
      "\n",
      "Epoch 00004: saving model to model_init_2019-09-2315_47_36.115999/model-00004-1.13534-0.50830-0.94959-0.70000.h5\n",
      "Epoch 5/30\n",
      "67/67 [==============================] - 54s 813ms/step - loss: 1.0124 - categorical_accuracy: 0.5901 - val_loss: 0.9846 - val_categorical_accuracy: 0.5300\n",
      "\n",
      "Epoch 00005: saving model to model_init_2019-09-2315_47_36.115999/model-00005-1.00585-0.59276-0.98458-0.53000.h5\n",
      "Epoch 6/30\n",
      "67/67 [==============================] - 54s 812ms/step - loss: 1.0505 - categorical_accuracy: 0.5696 - val_loss: 0.8201 - val_categorical_accuracy: 0.7300\n",
      "\n",
      "Epoch 00006: saving model to model_init_2019-09-2315_47_36.115999/model-00006-1.05220-0.56863-0.82007-0.73000.h5\n",
      "Epoch 7/30\n",
      "67/67 [==============================] - 54s 812ms/step - loss: 0.9606 - categorical_accuracy: 0.6144 - val_loss: 0.8333 - val_categorical_accuracy: 0.7400\n",
      "\n",
      "Epoch 00007: saving model to model_init_2019-09-2315_47_36.115999/model-00007-0.96539-0.61388-0.83331-0.74000.h5\n",
      "Epoch 8/30\n",
      "67/67 [==============================] - 54s 811ms/step - loss: 0.8761 - categorical_accuracy: 0.6577 - val_loss: 0.9948 - val_categorical_accuracy: 0.5300\n",
      "\n",
      "Epoch 00008: saving model to model_init_2019-09-2315_47_36.115999/model-00008-0.87580-0.65762-0.99484-0.53000.h5\n",
      "\n",
      "Epoch 00008: ReduceLROnPlateau reducing learning rate to 0.0005000000237487257.\n",
      "Epoch 9/30\n",
      "67/67 [==============================] - 54s 811ms/step - loss: 0.7812 - categorical_accuracy: 0.6940 - val_loss: 0.7379 - val_categorical_accuracy: 0.7300\n",
      "\n",
      "Epoch 00009: saving model to model_init_2019-09-2315_47_36.115999/model-00009-0.78520-0.69080-0.73788-0.73000.h5\n",
      "Epoch 10/30\n",
      "67/67 [==============================] - 54s 810ms/step - loss: 0.6999 - categorical_accuracy: 0.7209 - val_loss: 0.6884 - val_categorical_accuracy: 0.7500\n",
      "\n",
      "Epoch 00010: saving model to model_init_2019-09-2315_47_36.115999/model-00010-0.70384-0.71795-0.68837-0.75000.h5\n",
      "Epoch 11/30\n",
      "67/67 [==============================] - 54s 809ms/step - loss: 0.6625 - categorical_accuracy: 0.7418 - val_loss: 0.6542 - val_categorical_accuracy: 0.7600\n",
      "\n",
      "Epoch 00011: saving model to model_init_2019-09-2315_47_36.115999/model-00011-0.66398-0.73906-0.65421-0.76000.h5\n",
      "Epoch 12/30\n",
      "67/67 [==============================] - 54s 810ms/step - loss: 0.6459 - categorical_accuracy: 0.7368 - val_loss: 0.6633 - val_categorical_accuracy: 0.7500\n",
      "\n",
      "Epoch 00012: saving model to model_init_2019-09-2315_47_36.115999/model-00012-0.64654-0.73756-0.66326-0.75000.h5\n",
      "Epoch 13/30\n",
      "67/67 [==============================] - 54s 810ms/step - loss: 0.6376 - categorical_accuracy: 0.7438 - val_loss: 0.6503 - val_categorical_accuracy: 0.7500\n",
      "\n",
      "Epoch 00013: saving model to model_init_2019-09-2315_47_36.115999/model-00013-0.62600-0.74811-0.65028-0.75000.h5\n",
      "Epoch 14/30\n",
      "67/67 [==============================] - 54s 809ms/step - loss: 0.5853 - categorical_accuracy: 0.7626 - val_loss: 0.8226 - val_categorical_accuracy: 0.7400\n",
      "\n",
      "Epoch 00014: saving model to model_init_2019-09-2315_47_36.115999/model-00014-0.58999-0.76018-0.82263-0.74000.h5\n",
      "Epoch 15/30\n",
      "67/67 [==============================] - 54s 808ms/step - loss: 0.5633 - categorical_accuracy: 0.7806 - val_loss: 0.6298 - val_categorical_accuracy: 0.7700\n",
      "\n",
      "Epoch 00015: saving model to model_init_2019-09-2315_47_36.115999/model-00015-0.56626-0.77828-0.62984-0.77000.h5\n",
      "Epoch 16/30\n",
      "67/67 [==============================] - 54s 809ms/step - loss: 0.5596 - categorical_accuracy: 0.7865 - val_loss: 0.6427 - val_categorical_accuracy: 0.6900\n",
      "\n",
      "Epoch 00016: saving model to model_init_2019-09-2315_47_36.115999/model-00016-0.56386-0.78431-0.64268-0.69000.h5\n",
      "Epoch 17/30\n",
      "67/67 [==============================] - 54s 809ms/step - loss: 0.5420 - categorical_accuracy: 0.7856 - val_loss: 0.5928 - val_categorical_accuracy: 0.7500\n",
      "\n",
      "Epoch 00017: saving model to model_init_2019-09-2315_47_36.115999/model-00017-0.53723-0.79035-0.59278-0.75000.h5\n",
      "Epoch 18/30\n",
      "67/67 [==============================] - 54s 809ms/step - loss: 0.5150 - categorical_accuracy: 0.8095 - val_loss: 0.6433 - val_categorical_accuracy: 0.7400\n",
      "\n",
      "Epoch 00018: saving model to model_init_2019-09-2315_47_36.115999/model-00018-0.50031-0.81448-0.64325-0.74000.h5\n",
      "Epoch 19/30\n",
      "67/67 [==============================] - 54s 809ms/step - loss: 0.5154 - categorical_accuracy: 0.8089 - val_loss: 0.6825 - val_categorical_accuracy: 0.7100\n",
      "\n",
      "Epoch 00019: saving model to model_init_2019-09-2315_47_36.115999/model-00019-0.51837-0.80694-0.68248-0.71000.h5\n",
      "\n",
      "Epoch 00019: ReduceLROnPlateau reducing learning rate to 0.0002500000118743628.\n",
      "Epoch 20/30\n",
      "67/67 [==============================] - 54s 809ms/step - loss: 0.4598 - categorical_accuracy: 0.8125 - val_loss: 0.5550 - val_categorical_accuracy: 0.7600\n",
      "\n",
      "Epoch 00020: saving model to model_init_2019-09-2315_47_36.115999/model-00020-0.45134-0.81750-0.55503-0.76000.h5\n",
      "Epoch 21/30\n",
      "67/67 [==============================] - 54s 810ms/step - loss: 0.4052 - categorical_accuracy: 0.8518 - val_loss: 0.5492 - val_categorical_accuracy: 0.7800\n",
      "\n",
      "Epoch 00021: saving model to model_init_2019-09-2315_47_36.115999/model-00021-0.40026-0.85370-0.54925-0.78000.h5\n",
      "Epoch 22/30\n",
      "67/67 [==============================] - 54s 810ms/step - loss: 0.3902 - categorical_accuracy: 0.8697 - val_loss: 0.5910 - val_categorical_accuracy: 0.7600\n",
      "\n",
      "Epoch 00022: saving model to model_init_2019-09-2315_47_36.115999/model-00022-0.38964-0.87179-0.59097-0.76000.h5\n",
      "Epoch 23/30\n",
      "67/67 [==============================] - 54s 810ms/step - loss: 0.3749 - categorical_accuracy: 0.8548 - val_loss: 0.5734 - val_categorical_accuracy: 0.7600\n",
      "\n",
      "Epoch 00023: saving model to model_init_2019-09-2315_47_36.115999/model-00023-0.37082-0.85671-0.57342-0.76000.h5\n",
      "\n",
      "Epoch 00023: ReduceLROnPlateau reducing learning rate to 0.0001250000059371814.\n",
      "Epoch 24/30\n",
      "67/67 [==============================] - 54s 810ms/step - loss: 0.3758 - categorical_accuracy: 0.8528 - val_loss: 0.5911 - val_categorical_accuracy: 0.7800\n",
      "\n",
      "Epoch 00024: saving model to model_init_2019-09-2315_47_36.115999/model-00024-0.36879-0.85822-0.59112-0.78000.h5\n",
      "Epoch 25/30\n",
      "67/67 [==============================] - 54s 810ms/step - loss: 0.3530 - categorical_accuracy: 0.8627 - val_loss: 0.5464 - val_categorical_accuracy: 0.7600\n",
      "\n",
      "Epoch 00025: saving model to model_init_2019-09-2315_47_36.115999/model-00025-0.35532-0.86124-0.54638-0.76000.h5\n",
      "Epoch 26/30\n",
      "67/67 [==============================] - 54s 809ms/step - loss: 0.3338 - categorical_accuracy: 0.8851 - val_loss: 0.5662 - val_categorical_accuracy: 0.7600\n",
      "\n",
      "Epoch 00026: saving model to model_init_2019-09-2315_47_36.115999/model-00026-0.33636-0.88386-0.56618-0.76000.h5\n",
      "Epoch 27/30\n",
      "67/67 [==============================] - 54s 810ms/step - loss: 0.3458 - categorical_accuracy: 0.8865 - val_loss: 0.5458 - val_categorical_accuracy: 0.7700\n",
      "\n",
      "Epoch 00027: saving model to model_init_2019-09-2315_47_36.115999/model-00027-0.34566-0.88537-0.54575-0.77000.h5\n",
      "Epoch 28/30\n",
      "67/67 [==============================] - 54s 809ms/step - loss: 0.3010 - categorical_accuracy: 0.8872 - val_loss: 0.5785 - val_categorical_accuracy: 0.7700\n",
      "\n",
      "Epoch 00028: saving model to model_init_2019-09-2315_47_36.115999/model-00028-0.28725-0.89291-0.57853-0.77000.h5\n",
      "Epoch 29/30\n",
      "67/67 [==============================] - 54s 809ms/step - loss: 0.3431 - categorical_accuracy: 0.8642 - val_loss: 0.5658 - val_categorical_accuracy: 0.7500\n",
      "\n",
      "Epoch 00029: saving model to model_init_2019-09-2315_47_36.115999/model-00029-0.34371-0.86275-0.56584-0.75000.h5\n",
      "\n",
      "Epoch 00029: ReduceLROnPlateau reducing learning rate to 6.25000029685907e-05.\n",
      "Epoch 30/30\n",
      "67/67 [==============================] - 54s 809ms/step - loss: 0.3326 - categorical_accuracy: 0.8776 - val_loss: 0.5464 - val_categorical_accuracy: 0.7300\n",
      "\n",
      "Epoch 00030: saving model to model_init_2019-09-2315_47_36.115999/model-00030-0.33385-0.87632-0.54638-0.73000.h5\n"
     ]
    },
    {
     "data": {
      "text/plain": [
       "<keras.callbacks.History at 0x7f32000e55f8>"
      ]
     },
     "execution_count": 21,
     "metadata": {},
     "output_type": "execute_result"
    }
   ],
   "source": [
    "model.fit_generator(train_generator, steps_per_epoch=steps_per_epoch, epochs=num_epochs, verbose=1, \n",
    "                    callbacks=callbacks_list, validation_data=val_generator, \n",
    "                    validation_steps=validation_steps, class_weight=None, workers=1, initial_epoch=0)"
   ]
  },
  {
   "cell_type": "code",
   "execution_count": 23,
   "metadata": {},
   "outputs": [
    {
     "name": "stdout",
     "output_type": "stream",
     "text": [
      "# testing sequences = 100\n",
      "Model loaded.\n",
      "Source path =  ./val ; batch size = 10\n"
     ]
    },
    {
     "name": "stderr",
     "output_type": "stream",
     "text": [
      "/mnt/disks/user/anaconda3/lib/python3.6/site-packages/ipykernel_launcher.py:13: DeprecationWarning: `imread` is deprecated!\n",
      "`imread` is deprecated in SciPy 1.0.0, and will be removed in 1.2.0.\n",
      "Use ``imageio.imread`` instead.\n",
      "  del sys.path[0]\n",
      "/mnt/disks/user/anaconda3/lib/python3.6/site-packages/ipykernel_launcher.py:15: DeprecationWarning: `imresize` is deprecated!\n",
      "`imresize` is deprecated in SciPy 1.0.0, and will be removed in 1.2.0.\n",
      "Use ``skimage.transform.resize`` instead.\n",
      "  from ipykernel import kernelapp as app\n",
      "/mnt/disks/user/anaconda3/lib/python3.6/site-packages/ipykernel_launcher.py:17: DeprecationWarning: `imresize` is deprecated!\n",
      "`imresize` is deprecated in SciPy 1.0.0, and will be removed in 1.2.0.\n",
      "Use ``skimage.transform.resize`` instead.\n"
     ]
    },
    {
     "name": "stdout",
     "output_type": "stream",
     "text": [
      "shape of x: (10, 18, 84, 84, 3) and shape of true_labels: (10, 5)\n",
      "shape of x: (10, 18, 84, 84, 3) and shape of true_labels: (10, 5)\n",
      "shape of x: (10, 18, 84, 84, 3) and shape of true_labels: (10, 5)\n",
      "shape of x: (10, 18, 84, 84, 3) and shape of true_labels: (10, 5)\n",
      "shape of x: (10, 18, 84, 84, 3) and shape of true_labels: (10, 5)\n",
      "shape of x: (10, 18, 84, 84, 3) and shape of true_labels: (10, 5)\n",
      "shape of x: (10, 18, 84, 84, 3) and shape of true_labels: (10, 5)\n",
      "shape of x: (10, 18, 84, 84, 3) and shape of true_labels: (10, 5)\n",
      "shape of x: (10, 18, 84, 84, 3) and shape of true_labels: (10, 5)\n",
      "shape of x: (10, 18, 84, 84, 3) and shape of true_labels: (10, 5)\n",
      "Accuracy is = 0.73\n"
     ]
    }
   ],
   "source": [
    "from keras.models import load_model, Model\n",
    "\n",
    "model_name = './model_init_2019-09-2315_47_36.115999/model-00030-0.33385-0.87632-0.54638-0.73000.h5'\n",
    "    \n",
    "test_doc = open('./val.csv').readlines()\n",
    "test_path = './val'\n",
    "num_test_sequences = len(test_doc)\n",
    "print ('# testing sequences =', num_test_sequences)\n",
    "test_generator = generator(test_path, test_doc, batch_size)\n",
    "model = load_model(model_name)\n",
    "print(\"Model loaded.\")\n",
    "model_func = Model(inputs=[model.input], outputs=[model.output])\n",
    "    \n",
    "acc = 0\n",
    "    \n",
    "num_batches = int(num_test_sequences/batch_size)\n",
    "    \n",
    "for i in range(num_batches):\n",
    "    x,true_labels = test_generator.__next__()\n",
    "    print (\"shape of x:\", x.shape, \"and shape of true_labels:\", true_labels.shape)\n",
    "    pred_idx = np.argmax(model_func.predict_on_batch(x), axis=1)\n",
    "    for j,k in enumerate(pred_idx):\n",
    "        if true_labels[j,k] == 1:\n",
    "            acc += 1\n",
    "                \n",
    "if (num_test_sequences%batch_size) != 0:\n",
    "    x,true_labels = test_generator.__next__()\n",
    "    print (\"shape of x:\", x.shape, \"and shape of true_labels:\", true_labels.shape)\n",
    "    pred_idx = np.argmax(model_func.predict_on_batch(x), axis=1)\n",
    "    for j,k in enumerate(pred_idx):\n",
    "        if true_labels[j,k] == 1:\n",
    "            acc += 1\n",
    "\n",
    "print('Accuracy is =', acc/num_test_sequences) \n"
   ]
  },
  {
   "cell_type": "markdown",
   "metadata": {},
   "source": [
    "#### Training model with batch size = 20 and epoch = 30"
   ]
  },
  {
   "cell_type": "code",
   "execution_count": 24,
   "metadata": {},
   "outputs": [
    {
     "name": "stdout",
     "output_type": "stream",
     "text": [
      "Epoch 1/30\n"
     ]
    },
    {
     "name": "stderr",
     "output_type": "stream",
     "text": [
      "/mnt/disks/user/anaconda3/lib/python3.6/site-packages/ipykernel_launcher.py:13: DeprecationWarning: `imread` is deprecated!\n",
      "`imread` is deprecated in SciPy 1.0.0, and will be removed in 1.2.0.\n",
      "Use ``imageio.imread`` instead.\n",
      "  del sys.path[0]\n",
      "/mnt/disks/user/anaconda3/lib/python3.6/site-packages/ipykernel_launcher.py:17: DeprecationWarning: `imresize` is deprecated!\n",
      "`imresize` is deprecated in SciPy 1.0.0, and will be removed in 1.2.0.\n",
      "Use ``skimage.transform.resize`` instead.\n",
      "/mnt/disks/user/anaconda3/lib/python3.6/site-packages/ipykernel_launcher.py:15: DeprecationWarning: `imresize` is deprecated!\n",
      "`imresize` is deprecated in SciPy 1.0.0, and will be removed in 1.2.0.\n",
      "Use ``skimage.transform.resize`` instead.\n",
      "  from ipykernel import kernelapp as app\n"
     ]
    },
    {
     "name": "stdout",
     "output_type": "stream",
     "text": [
      "34/34 [==============================] - 31s 906ms/step - loss: 0.3122 - categorical_accuracy: 0.8765 - val_loss: 0.5681 - val_categorical_accuracy: 0.7800\n",
      "\n",
      "Epoch 00001: saving model to model_init_2019-09-2315_47_36.115999/model-00001-0.31223-0.87647-0.56813-0.78000.h5\n",
      "Epoch 2/30\n",
      "12/34 [=========>....................] - ETA: 16s - loss: 0.3226 - categorical_accuracy: 0.8583"
     ]
    },
    {
     "name": "stderr",
     "output_type": "stream",
     "text": [
      "/mnt/disks/user/anaconda3/lib/python3.6/site-packages/ipykernel_launcher.py:32: DeprecationWarning: `imread` is deprecated!\n",
      "`imread` is deprecated in SciPy 1.0.0, and will be removed in 1.2.0.\n",
      "Use ``imageio.imread`` instead.\n",
      "/mnt/disks/user/anaconda3/lib/python3.6/site-packages/ipykernel_launcher.py:34: DeprecationWarning: `imresize` is deprecated!\n",
      "`imresize` is deprecated in SciPy 1.0.0, and will be removed in 1.2.0.\n",
      "Use ``skimage.transform.resize`` instead.\n",
      "/mnt/disks/user/anaconda3/lib/python3.6/site-packages/ipykernel_launcher.py:36: DeprecationWarning: `imresize` is deprecated!\n",
      "`imresize` is deprecated in SciPy 1.0.0, and will be removed in 1.2.0.\n",
      "Use ``skimage.transform.resize`` instead.\n"
     ]
    },
    {
     "name": "stdout",
     "output_type": "stream",
     "text": [
      "34/34 [==============================] - 27s 796ms/step - loss: 0.3300 - categorical_accuracy: 0.8529 - val_loss: 0.5508 - val_categorical_accuracy: 0.7200\n",
      "\n",
      "Epoch 00002: saving model to model_init_2019-09-2315_47_36.115999/model-00002-0.33378-0.84985-0.55078-0.72000.h5\n",
      "Epoch 3/30\n",
      "34/34 [==============================] - 28s 819ms/step - loss: 0.3040 - categorical_accuracy: 0.8882 - val_loss: 0.4457 - val_categorical_accuracy: 0.7800\n",
      "\n",
      "Epoch 00003: saving model to model_init_2019-09-2315_47_36.115999/model-00003-0.30400-0.88824-0.44575-0.78000.h5\n",
      "Epoch 4/30\n",
      "34/34 [==============================] - 27s 804ms/step - loss: 0.3195 - categorical_accuracy: 0.8617 - val_loss: 0.7260 - val_categorical_accuracy: 0.7200\n",
      "\n",
      "Epoch 00004: saving model to model_init_2019-09-2315_47_36.115999/model-00004-0.32168-0.85886-0.72600-0.72000.h5\n",
      "Epoch 5/30\n",
      "34/34 [==============================] - 28s 819ms/step - loss: 0.2939 - categorical_accuracy: 0.8676 - val_loss: 0.5155 - val_categorical_accuracy: 0.7800\n",
      "\n",
      "Epoch 00005: saving model to model_init_2019-09-2315_47_36.115999/model-00005-0.29391-0.86765-0.51552-0.78000.h5\n",
      "\n",
      "Epoch 00005: ReduceLROnPlateau reducing learning rate to 3.125000148429535e-05.\n",
      "Epoch 6/30\n",
      "34/34 [==============================] - 27s 802ms/step - loss: 0.3141 - categorical_accuracy: 0.8903 - val_loss: 0.5602 - val_categorical_accuracy: 0.7400\n",
      "\n",
      "Epoch 00006: saving model to model_init_2019-09-2315_47_36.115999/model-00006-0.30919-0.89489-0.56016-0.74000.h5\n",
      "Epoch 7/30\n",
      "34/34 [==============================] - 28s 817ms/step - loss: 0.2918 - categorical_accuracy: 0.8941 - val_loss: 0.5768 - val_categorical_accuracy: 0.8000\n",
      "\n",
      "Epoch 00007: saving model to model_init_2019-09-2315_47_36.115999/model-00007-0.29179-0.89412-0.57677-0.80000.h5\n",
      "\n",
      "Epoch 00007: ReduceLROnPlateau reducing learning rate to 1.5625000742147677e-05.\n",
      "Epoch 8/30\n",
      "34/34 [==============================] - 27s 801ms/step - loss: 0.2713 - categorical_accuracy: 0.9029 - val_loss: 0.5215 - val_categorical_accuracy: 0.7600\n",
      "\n",
      "Epoch 00008: saving model to model_init_2019-09-2315_47_36.115999/model-00008-0.27184-0.90090-0.52149-0.76000.h5\n",
      "Epoch 9/30\n",
      "34/34 [==============================] - 28s 817ms/step - loss: 0.2863 - categorical_accuracy: 0.9029 - val_loss: 0.5131 - val_categorical_accuracy: 0.7600\n",
      "\n",
      "Epoch 00009: saving model to model_init_2019-09-2315_47_36.115999/model-00009-0.28625-0.90294-0.51309-0.76000.h5\n",
      "\n",
      "Epoch 00009: ReduceLROnPlateau reducing learning rate to 1e-05.\n",
      "Epoch 10/30\n",
      "34/34 [==============================] - 27s 801ms/step - loss: 0.3259 - categorical_accuracy: 0.8689 - val_loss: 0.5951 - val_categorical_accuracy: 0.7600\n",
      "\n",
      "Epoch 00010: saving model to model_init_2019-09-2315_47_36.115999/model-00010-0.30425-0.87988-0.59507-0.76000.h5\n",
      "Epoch 11/30\n",
      "34/34 [==============================] - 28s 816ms/step - loss: 0.3744 - categorical_accuracy: 0.8441 - val_loss: 0.4946 - val_categorical_accuracy: 0.7800\n",
      "\n",
      "Epoch 00011: saving model to model_init_2019-09-2315_47_36.115999/model-00011-0.37445-0.84412-0.49457-0.78000.h5\n",
      "Epoch 12/30\n",
      "34/34 [==============================] - 27s 801ms/step - loss: 0.3184 - categorical_accuracy: 0.8941 - val_loss: 0.6094 - val_categorical_accuracy: 0.7400\n",
      "\n",
      "Epoch 00012: saving model to model_init_2019-09-2315_47_36.115999/model-00012-0.32293-0.89189-0.60939-0.74000.h5\n",
      "Epoch 13/30\n",
      "34/34 [==============================] - 28s 816ms/step - loss: 0.3252 - categorical_accuracy: 0.8559 - val_loss: 0.5701 - val_categorical_accuracy: 0.7600\n",
      "\n",
      "Epoch 00013: saving model to model_init_2019-09-2315_47_36.115999/model-00013-0.32519-0.85588-0.57005-0.76000.h5\n",
      "Epoch 14/30\n",
      "34/34 [==============================] - 27s 801ms/step - loss: 0.2424 - categorical_accuracy: 0.9205 - val_loss: 0.2732 - val_categorical_accuracy: 0.8400\n",
      "\n",
      "Epoch 00014: saving model to model_init_2019-09-2315_47_36.115999/model-00014-0.24714-0.91892-0.27316-0.84000.h5\n",
      "Epoch 15/30\n",
      "34/34 [==============================] - 28s 817ms/step - loss: 0.3490 - categorical_accuracy: 0.8735 - val_loss: 0.7698 - val_categorical_accuracy: 0.7000\n",
      "\n",
      "Epoch 00015: saving model to model_init_2019-09-2315_47_36.115999/model-00015-0.34897-0.87353-0.76983-0.70000.h5\n",
      "Epoch 16/30\n",
      "34/34 [==============================] - 27s 800ms/step - loss: 0.3448 - categorical_accuracy: 0.8631 - val_loss: 0.5588 - val_categorical_accuracy: 0.8000\n",
      "\n",
      "Epoch 00016: saving model to model_init_2019-09-2315_47_36.115999/model-00016-0.33497-0.87387-0.55879-0.80000.h5\n",
      "Epoch 17/30\n",
      "34/34 [==============================] - 28s 816ms/step - loss: 0.2874 - categorical_accuracy: 0.8824 - val_loss: 0.5019 - val_categorical_accuracy: 0.7800\n",
      "\n",
      "Epoch 00017: saving model to model_init_2019-09-2315_47_36.115999/model-00017-0.28740-0.88235-0.50194-0.78000.h5\n",
      "Epoch 18/30\n",
      "34/34 [==============================] - 27s 800ms/step - loss: 0.2505 - categorical_accuracy: 0.9117 - val_loss: 0.5495 - val_categorical_accuracy: 0.7600\n",
      "\n",
      "Epoch 00018: saving model to model_init_2019-09-2315_47_36.115999/model-00018-0.25358-0.90991-0.54947-0.76000.h5\n",
      "Epoch 19/30\n",
      "34/34 [==============================] - 28s 815ms/step - loss: 0.2961 - categorical_accuracy: 0.9059 - val_loss: 0.5834 - val_categorical_accuracy: 0.7400\n",
      "\n",
      "Epoch 00019: saving model to model_init_2019-09-2315_47_36.115999/model-00019-0.29609-0.90588-0.58344-0.74000.h5\n",
      "Epoch 20/30\n",
      "34/34 [==============================] - 27s 802ms/step - loss: 0.3529 - categorical_accuracy: 0.8895 - val_loss: 0.4838 - val_categorical_accuracy: 0.7800\n",
      "\n",
      "Epoch 00020: saving model to model_init_2019-09-2315_47_36.115999/model-00020-0.31556-0.90090-0.48382-0.78000.h5\n",
      "Epoch 21/30\n",
      "34/34 [==============================] - 28s 814ms/step - loss: 0.2860 - categorical_accuracy: 0.9118 - val_loss: 0.4524 - val_categorical_accuracy: 0.8400\n",
      "\n",
      "Epoch 00021: saving model to model_init_2019-09-2315_47_36.115999/model-00021-0.28598-0.91176-0.45244-0.84000.h5\n",
      "Epoch 22/30\n",
      "34/34 [==============================] - 27s 796ms/step - loss: 0.2839 - categorical_accuracy: 0.9088 - val_loss: 0.6412 - val_categorical_accuracy: 0.7400\n",
      "\n",
      "Epoch 00022: saving model to model_init_2019-09-2315_47_36.115999/model-00022-0.28216-0.90691-0.64116-0.74000.h5\n",
      "Epoch 23/30\n",
      "34/34 [==============================] - 28s 811ms/step - loss: 0.3029 - categorical_accuracy: 0.8882 - val_loss: 0.5861 - val_categorical_accuracy: 0.7200\n",
      "\n",
      "Epoch 00023: saving model to model_init_2019-09-2315_47_36.115999/model-00023-0.30288-0.88824-0.58606-0.72000.h5\n",
      "Epoch 24/30\n",
      "34/34 [==============================] - 27s 794ms/step - loss: 0.3437 - categorical_accuracy: 0.8705 - val_loss: 0.4510 - val_categorical_accuracy: 0.8200\n",
      "\n",
      "Epoch 00024: saving model to model_init_2019-09-2315_47_36.115999/model-00024-0.34879-0.86787-0.45098-0.82000.h5\n",
      "Epoch 25/30\n",
      "34/34 [==============================] - 28s 814ms/step - loss: 0.2975 - categorical_accuracy: 0.8853 - val_loss: 0.6780 - val_categorical_accuracy: 0.7400\n",
      "\n",
      "Epoch 00025: saving model to model_init_2019-09-2315_47_36.115999/model-00025-0.29754-0.88529-0.67804-0.74000.h5\n",
      "Epoch 26/30\n",
      "34/34 [==============================] - 27s 799ms/step - loss: 0.3800 - categorical_accuracy: 0.8499 - val_loss: 0.3203 - val_categorical_accuracy: 0.8600\n",
      "\n",
      "Epoch 00026: saving model to model_init_2019-09-2315_47_36.115999/model-00026-0.38667-0.84685-0.32027-0.86000.h5\n",
      "Epoch 27/30\n",
      "34/34 [==============================] - 28s 816ms/step - loss: 0.2773 - categorical_accuracy: 0.9029 - val_loss: 0.7434 - val_categorical_accuracy: 0.7200\n",
      "\n",
      "Epoch 00027: saving model to model_init_2019-09-2315_47_36.115999/model-00027-0.27731-0.90294-0.74340-0.72000.h5\n",
      "Epoch 28/30\n",
      "34/34 [==============================] - 27s 800ms/step - loss: 0.2967 - categorical_accuracy: 0.8911 - val_loss: 0.5680 - val_categorical_accuracy: 0.7000\n",
      "\n",
      "Epoch 00028: saving model to model_init_2019-09-2315_47_36.115999/model-00028-0.29929-0.88889-0.56802-0.70000.h5\n",
      "Epoch 29/30\n",
      "34/34 [==============================] - 28s 816ms/step - loss: 0.2824 - categorical_accuracy: 0.8853 - val_loss: 0.5413 - val_categorical_accuracy: 0.8400\n",
      "\n",
      "Epoch 00029: saving model to model_init_2019-09-2315_47_36.115999/model-00029-0.28237-0.88529-0.54131-0.84000.h5\n",
      "Epoch 30/30\n"
     ]
    },
    {
     "name": "stdout",
     "output_type": "stream",
     "text": [
      "34/34 [==============================] - 27s 801ms/step - loss: 0.2514 - categorical_accuracy: 0.9264 - val_loss: 0.5562 - val_categorical_accuracy: 0.8200\n",
      "\n",
      "Epoch 00030: saving model to model_init_2019-09-2315_47_36.115999/model-00030-0.25494-0.92492-0.55623-0.82000.h5\n"
     ]
    },
    {
     "data": {
      "text/plain": [
       "<keras.callbacks.History at 0x7f322bb90780>"
      ]
     },
     "execution_count": 24,
     "metadata": {},
     "output_type": "execute_result"
    }
   ],
   "source": [
    "batch_size = 20\n",
    "epoch = 30\n",
    "if (num_train_sequences%batch_size) == 0:\n",
    "    steps_per_epoch = int(num_train_sequences/batch_size)\n",
    "else:\n",
    "    steps_per_epoch = (num_train_sequences//batch_size) + 1\n",
    "\n",
    "if (num_val_sequences%batch_size) == 0:\n",
    "    validation_steps = int(num_val_sequences/batch_size)\n",
    "else:\n",
    "    validation_steps = (num_val_sequences//batch_size) + 1\n",
    "    \n",
    "model.fit_generator(train_generator, steps_per_epoch=steps_per_epoch, epochs=num_epochs, verbose=1, \n",
    "                    callbacks=callbacks_list, validation_data=val_generator, \n",
    "                    validation_steps=validation_steps, class_weight=None, workers=1, initial_epoch=0)"
   ]
  },
  {
   "cell_type": "code",
   "execution_count": 29,
   "metadata": {},
   "outputs": [
    {
     "name": "stdout",
     "output_type": "stream",
     "text": [
      "_________________________________________________________________\n",
      "Layer (type)                 Output Shape              Param #   \n",
      "=================================================================\n",
      "time_distributed_2 (TimeDist (None, 18, 64)            14845824  \n",
      "_________________________________________________________________\n",
      "gru_3 (GRU)                  (None, 18, 32)            9312      \n",
      "_________________________________________________________________\n",
      "gru_4 (GRU)                  (None, 16)                2352      \n",
      "_________________________________________________________________\n",
      "dropout_6 (Dropout)          (None, 16)                0         \n",
      "_________________________________________________________________\n",
      "dense_10 (Dense)             (None, 8)                 136       \n",
      "_________________________________________________________________\n",
      "dense_11 (Dense)             (None, 5)                 45        \n",
      "=================================================================\n",
      "Total params: 14,857,669\n",
      "Trainable params: 142,981\n",
      "Non-trainable params: 14,714,688\n",
      "_________________________________________________________________\n",
      "None\n"
     ]
    }
   ],
   "source": [
    "from keras.applications.vgg16 import VGG16\n",
    "from keras.layers import TimeDistributed\n",
    "\n",
    "base_model = VGG16(include_top=False, weights='imagenet', input_shape=(84,84,3))\n",
    "x = base_model.output\n",
    "x = Flatten()(x)\n",
    "#x.add(Dropout(0.5))\n",
    "features = Dense(64, activation='relu')(x)\n",
    "conv_model = Model(inputs=base_model.input, outputs=features)\n",
    "    \n",
    "for layer in base_model.layers:\n",
    "    layer.trainable = False\n",
    "        \n",
    "model = Sequential()\n",
    "model.add(TimeDistributed(conv_model, input_shape=(18,84,84,3)))\n",
    "model.add(GRU(32, return_sequences=True))\n",
    "model.add(GRU(16))\n",
    "model.add(Dropout(0.5))\n",
    "model.add(Dense(8, activation='relu'))\n",
    "model.add(Dense(5, activation='softmax'))\n",
    "\n",
    "sgd = optimizers.SGD(lr=0.001, decay=1e-6, momentum=0.7, nesterov=True)\n",
    "model.compile(optimizer=sgd, loss='categorical_crossentropy', metrics=['categorical_accuracy'])\n",
    "print (model.summary())"
   ]
  },
  {
   "cell_type": "code",
   "execution_count": 30,
   "metadata": {},
   "outputs": [],
   "source": [
    "train_generator = generator(train_path, train_doc, batch_size)\n",
    "val_generator = generator(val_path, val_doc, batch_size)"
   ]
  },
  {
   "cell_type": "code",
   "execution_count": 31,
   "metadata": {},
   "outputs": [
    {
     "name": "stderr",
     "output_type": "stream",
     "text": [
      "/mnt/disks/user/anaconda3/lib/python3.6/site-packages/keras/callbacks.py:999: UserWarning: `epsilon` argument is deprecated and will be removed, use `min_delta` instead.\n",
      "  warnings.warn('`epsilon` argument is deprecated and '\n"
     ]
    },
    {
     "name": "stdout",
     "output_type": "stream",
     "text": [
      "Source path =  ./val ; batch size = 20\n",
      "Source path =  ./train ; batch size = 20\n",
      "Epoch 1/30\n"
     ]
    },
    {
     "name": "stderr",
     "output_type": "stream",
     "text": [
      "/mnt/disks/user/anaconda3/lib/python3.6/site-packages/ipykernel_launcher.py:13: DeprecationWarning: `imread` is deprecated!\n",
      "`imread` is deprecated in SciPy 1.0.0, and will be removed in 1.2.0.\n",
      "Use ``imageio.imread`` instead.\n",
      "  del sys.path[0]\n",
      "/mnt/disks/user/anaconda3/lib/python3.6/site-packages/ipykernel_launcher.py:15: DeprecationWarning: `imresize` is deprecated!\n",
      "`imresize` is deprecated in SciPy 1.0.0, and will be removed in 1.2.0.\n",
      "Use ``skimage.transform.resize`` instead.\n",
      "  from ipykernel import kernelapp as app\n",
      "/mnt/disks/user/anaconda3/lib/python3.6/site-packages/ipykernel_launcher.py:17: DeprecationWarning: `imresize` is deprecated!\n",
      "`imresize` is deprecated in SciPy 1.0.0, and will be removed in 1.2.0.\n",
      "Use ``skimage.transform.resize`` instead.\n"
     ]
    },
    {
     "name": "stdout",
     "output_type": "stream",
     "text": [
      "32/34 [===========================>..] - ETA: 2s - loss: 1.6577 - categorical_accuracy: 0.2063"
     ]
    },
    {
     "name": "stderr",
     "output_type": "stream",
     "text": [
      "/mnt/disks/user/anaconda3/lib/python3.6/site-packages/ipykernel_launcher.py:32: DeprecationWarning: `imread` is deprecated!\n",
      "`imread` is deprecated in SciPy 1.0.0, and will be removed in 1.2.0.\n",
      "Use ``imageio.imread`` instead.\n",
      "/mnt/disks/user/anaconda3/lib/python3.6/site-packages/ipykernel_launcher.py:36: DeprecationWarning: `imresize` is deprecated!\n",
      "`imresize` is deprecated in SciPy 1.0.0, and will be removed in 1.2.0.\n",
      "Use ``skimage.transform.resize`` instead.\n",
      "/mnt/disks/user/anaconda3/lib/python3.6/site-packages/ipykernel_launcher.py:34: DeprecationWarning: `imresize` is deprecated!\n",
      "`imresize` is deprecated in SciPy 1.0.0, and will be removed in 1.2.0.\n",
      "Use ``skimage.transform.resize`` instead.\n"
     ]
    },
    {
     "name": "stdout",
     "output_type": "stream",
     "text": [
      "34/34 [==============================] - 53s 2s/step - loss: 1.6531 - categorical_accuracy: 0.2016 - val_loss: 1.5967 - val_categorical_accuracy: 0.2000\n",
      "\n",
      "Epoch 00001: saving model to model_init_conv_lstm_2019-09-2315_47_36.115999/model-00001-1.65422-0.20664-1.59666-0.20000.h5\n",
      "Epoch 2/30\n",
      "34/34 [==============================] - 44s 1s/step - loss: 1.6243 - categorical_accuracy: 0.2333 - val_loss: 1.5777 - val_categorical_accuracy: 0.2200\n",
      "\n",
      "Epoch 00002: saving model to model_init_conv_lstm_2019-09-2315_47_36.115999/model-00002-1.62779-0.23077-1.57774-0.22000.h5\n",
      "Epoch 3/30\n",
      "34/34 [==============================] - 45s 1s/step - loss: 1.6005 - categorical_accuracy: 0.2046 - val_loss: 1.5710 - val_categorical_accuracy: 0.2900\n",
      "\n",
      "Epoch 00003: saving model to model_init_conv_lstm_2019-09-2315_47_36.115999/model-00003-1.59604-0.20965-1.57102-0.29000.h5\n",
      "Epoch 4/30\n",
      "34/34 [==============================] - 45s 1s/step - loss: 1.5652 - categorical_accuracy: 0.2575 - val_loss: 1.5711 - val_categorical_accuracy: 0.2400\n",
      "\n",
      "Epoch 00004: saving model to model_init_conv_lstm_2019-09-2315_47_36.115999/model-00004-1.56239-0.26395-1.57108-0.24000.h5\n",
      "Epoch 5/30\n",
      "34/34 [==============================] - 45s 1s/step - loss: 1.5300 - categorical_accuracy: 0.2781 - val_loss: 1.5624 - val_categorical_accuracy: 0.2000\n",
      "\n",
      "Epoch 00005: saving model to model_init_conv_lstm_2019-09-2315_47_36.115999/model-00005-1.53400-0.28507-1.56242-0.20000.h5\n",
      "Epoch 6/30\n",
      "34/34 [==============================] - 45s 1s/step - loss: 1.4997 - categorical_accuracy: 0.3333 - val_loss: 1.5485 - val_categorical_accuracy: 0.2300\n",
      "\n",
      "Epoch 00006: saving model to model_init_conv_lstm_2019-09-2315_47_36.115999/model-00006-1.50791-0.33333-1.54846-0.23000.h5\n",
      "Epoch 7/30\n",
      "34/34 [==============================] - 45s 1s/step - loss: 1.5039 - categorical_accuracy: 0.3274 - val_loss: 1.5402 - val_categorical_accuracy: 0.2800\n",
      "\n",
      "Epoch 00007: saving model to model_init_conv_lstm_2019-09-2315_47_36.115999/model-00007-1.50134-0.32730-1.54020-0.28000.h5\n",
      "Epoch 8/30\n",
      "34/34 [==============================] - 45s 1s/step - loss: 1.4754 - categorical_accuracy: 0.3341 - val_loss: 1.5241 - val_categorical_accuracy: 0.2400\n",
      "\n",
      "Epoch 00008: saving model to model_init_conv_lstm_2019-09-2315_47_36.115999/model-00008-1.47713-0.32579-1.52406-0.24000.h5\n",
      "Epoch 9/30\n",
      "34/34 [==============================] - 45s 1s/step - loss: 1.4485 - categorical_accuracy: 0.3606 - val_loss: 1.5216 - val_categorical_accuracy: 0.3000\n",
      "\n",
      "Epoch 00009: saving model to model_init_conv_lstm_2019-09-2315_47_36.115999/model-00009-1.45323-0.35294-1.52163-0.30000.h5\n",
      "Epoch 10/30\n",
      "34/34 [==============================] - 45s 1s/step - loss: 1.4162 - categorical_accuracy: 0.3598 - val_loss: 1.5278 - val_categorical_accuracy: 0.3000\n",
      "\n",
      "Epoch 00010: saving model to model_init_conv_lstm_2019-09-2315_47_36.115999/model-00010-1.41616-0.36048-1.52782-0.30000.h5\n",
      "Epoch 11/30\n",
      "34/34 [==============================] - 44s 1s/step - loss: 1.4081 - categorical_accuracy: 0.4091 - val_loss: 1.4990 - val_categorical_accuracy: 0.3100\n",
      "\n",
      "Epoch 00011: saving model to model_init_conv_lstm_2019-09-2315_47_36.115999/model-00011-1.40314-0.41931-1.49900-0.31000.h5\n",
      "Epoch 12/30\n",
      "34/34 [==============================] - 45s 1s/step - loss: 1.3713 - categorical_accuracy: 0.4187 - val_loss: 1.4961 - val_categorical_accuracy: 0.3500\n",
      "\n",
      "Epoch 00012: saving model to model_init_conv_lstm_2019-09-2315_47_36.115999/model-00012-1.37046-0.42081-1.49608-0.35000.h5\n",
      "Epoch 13/30\n",
      "34/34 [==============================] - 45s 1s/step - loss: 1.3465 - categorical_accuracy: 0.4584 - val_loss: 1.4881 - val_categorical_accuracy: 0.3400\n",
      "\n",
      "Epoch 00013: saving model to model_init_conv_lstm_2019-09-2315_47_36.115999/model-00013-1.34662-0.46154-1.48815-0.34000.h5\n",
      "Epoch 14/30\n",
      "34/34 [==============================] - 45s 1s/step - loss: 1.3304 - categorical_accuracy: 0.4621 - val_loss: 1.4838 - val_categorical_accuracy: 0.3200\n",
      "\n",
      "Epoch 00014: saving model to model_init_conv_lstm_2019-09-2315_47_36.115999/model-00014-1.33428-0.45701-1.48376-0.32000.h5\n",
      "Epoch 15/30\n",
      "34/34 [==============================] - 45s 1s/step - loss: 1.3029 - categorical_accuracy: 0.4996 - val_loss: 1.4631 - val_categorical_accuracy: 0.3500\n",
      "\n",
      "Epoch 00015: saving model to model_init_conv_lstm_2019-09-2315_47_36.115999/model-00015-1.29963-0.50377-1.46311-0.35000.h5\n",
      "Epoch 16/30\n",
      "34/34 [==============================] - 44s 1s/step - loss: 1.2924 - categorical_accuracy: 0.4864 - val_loss: 1.4614 - val_categorical_accuracy: 0.3700\n",
      "\n",
      "Epoch 00016: saving model to model_init_conv_lstm_2019-09-2315_47_36.115999/model-00016-1.28915-0.49020-1.46144-0.37000.h5\n",
      "Epoch 17/30\n",
      "34/34 [==============================] - 44s 1s/step - loss: 1.2707 - categorical_accuracy: 0.5092 - val_loss: 1.4332 - val_categorical_accuracy: 0.3800\n",
      "\n",
      "Epoch 00017: saving model to model_init_conv_lstm_2019-09-2315_47_36.115999/model-00017-1.27220-0.50528-1.43321-0.38000.h5\n",
      "Epoch 18/30\n",
      "34/34 [==============================] - 44s 1s/step - loss: 1.2601 - categorical_accuracy: 0.4893 - val_loss: 1.4188 - val_categorical_accuracy: 0.3800\n",
      "\n",
      "Epoch 00018: saving model to model_init_conv_lstm_2019-09-2315_47_36.115999/model-00018-1.25567-0.49321-1.41876-0.38000.h5\n",
      "Epoch 19/30\n",
      "34/34 [==============================] - 45s 1s/step - loss: 1.2030 - categorical_accuracy: 0.5526 - val_loss: 1.4322 - val_categorical_accuracy: 0.3800\n",
      "\n",
      "Epoch 00019: saving model to model_init_conv_lstm_2019-09-2315_47_36.115999/model-00019-1.20550-0.54148-1.43225-0.38000.h5\n",
      "Epoch 20/30\n",
      "34/34 [==============================] - 44s 1s/step - loss: 1.2012 - categorical_accuracy: 0.5637 - val_loss: 1.4284 - val_categorical_accuracy: 0.3800\n",
      "\n",
      "Epoch 00020: saving model to model_init_conv_lstm_2019-09-2315_47_36.115999/model-00020-1.20617-0.56109-1.42840-0.38000.h5\n",
      "\n",
      "Epoch 00020: ReduceLROnPlateau reducing learning rate to 0.0005000000237487257.\n",
      "Epoch 21/30\n",
      "34/34 [==============================] - 44s 1s/step - loss: 1.1572 - categorical_accuracy: 0.5703 - val_loss: 1.4277 - val_categorical_accuracy: 0.3800\n",
      "\n",
      "Epoch 00021: saving model to model_init_conv_lstm_2019-09-2315_47_36.115999/model-00021-1.15599-0.57617-1.42768-0.38000.h5\n",
      "Epoch 22/30\n",
      "34/34 [==============================] - 45s 1s/step - loss: 1.1078 - categorical_accuracy: 0.6255 - val_loss: 1.4104 - val_categorical_accuracy: 0.3900\n",
      "\n",
      "Epoch 00022: saving model to model_init_conv_lstm_2019-09-2315_47_36.115999/model-00022-1.11970-0.62443-1.41045-0.39000.h5\n",
      "Epoch 23/30\n",
      "34/34 [==============================] - 45s 1s/step - loss: 1.1289 - categorical_accuracy: 0.6107 - val_loss: 1.4052 - val_categorical_accuracy: 0.4000\n",
      "\n",
      "Epoch 00023: saving model to model_init_conv_lstm_2019-09-2315_47_36.115999/model-00023-1.12305-0.60935-1.40520-0.40000.h5\n",
      "Epoch 24/30\n",
      "34/34 [==============================] - 44s 1s/step - loss: 1.1219 - categorical_accuracy: 0.6071 - val_loss: 1.3955 - val_categorical_accuracy: 0.3800\n",
      "\n",
      "Epoch 00024: saving model to model_init_conv_lstm_2019-09-2315_47_36.115999/model-00024-1.11456-0.61388-1.39552-0.38000.h5\n",
      "Epoch 25/30\n",
      "34/34 [==============================] - 45s 1s/step - loss: 1.0956 - categorical_accuracy: 0.6130 - val_loss: 1.3881 - val_categorical_accuracy: 0.3800\n",
      "\n",
      "Epoch 00025: saving model to model_init_conv_lstm_2019-09-2315_47_36.115999/model-00025-1.10619-0.60332-1.38813-0.38000.h5\n",
      "Epoch 26/30\n",
      "34/34 [==============================] - 44s 1s/step - loss: 1.0854 - categorical_accuracy: 0.6461 - val_loss: 1.3958 - val_categorical_accuracy: 0.4100\n",
      "\n",
      "Epoch 00026: saving model to model_init_conv_lstm_2019-09-2315_47_36.115999/model-00026-1.08017-0.64555-1.39578-0.41000.h5\n",
      "Epoch 27/30\n",
      "34/34 [==============================] - 44s 1s/step - loss: 1.0884 - categorical_accuracy: 0.6181 - val_loss: 1.3873 - val_categorical_accuracy: 0.4000\n",
      "\n",
      "Epoch 00027: saving model to model_init_conv_lstm_2019-09-2315_47_36.115999/model-00027-1.08760-0.61689-1.38735-0.40000.h5\n",
      "Epoch 28/30\n",
      "34/34 [==============================] - 44s 1s/step - loss: 1.0662 - categorical_accuracy: 0.6269 - val_loss: 1.3902 - val_categorical_accuracy: 0.4100\n",
      "\n",
      "Epoch 00028: saving model to model_init_conv_lstm_2019-09-2315_47_36.115999/model-00028-1.07077-0.62594-1.39017-0.41000.h5\n",
      "Epoch 29/30\n"
     ]
    },
    {
     "name": "stdout",
     "output_type": "stream",
     "text": [
      "34/34 [==============================] - 45s 1s/step - loss: 1.0324 - categorical_accuracy: 0.6630 - val_loss: 1.3890 - val_categorical_accuracy: 0.4100\n",
      "\n",
      "Epoch 00029: saving model to model_init_conv_lstm_2019-09-2315_47_36.115999/model-00029-1.03083-0.65460-1.38897-0.41000.h5\n",
      "\n",
      "Epoch 00029: ReduceLROnPlateau reducing learning rate to 0.0002500000118743628.\n",
      "Epoch 30/30\n",
      "34/34 [==============================] - 45s 1s/step - loss: 1.0289 - categorical_accuracy: 0.6497 - val_loss: 1.3895 - val_categorical_accuracy: 0.4300\n",
      "\n",
      "Epoch 00030: saving model to model_init_conv_lstm_2019-09-2315_47_36.115999/model-00030-1.02948-0.65762-1.38945-0.43000.h5\n"
     ]
    },
    {
     "data": {
      "text/plain": [
       "<keras.callbacks.History at 0x7f32303ace48>"
      ]
     },
     "execution_count": 31,
     "metadata": {},
     "output_type": "execute_result"
    }
   ],
   "source": [
    "model_name = 'model_init_conv_lstm' + '_' + str(curr_dt_time).replace(' ','').replace(':','_') + '/'\n",
    "    \n",
    "if not os.path.exists(model_name):\n",
    "    os.mkdir(model_name)\n",
    "        \n",
    "filepath = model_name + 'model-{epoch:05d}-{loss:.5f}-{categorical_accuracy:.5f}-{val_loss:.5f}-{val_categorical_accuracy:.5f}.h5'\n",
    "\n",
    "checkpoint = ModelCheckpoint(filepath, monitor='val_loss', verbose=1, save_best_only=False, save_weights_only=False, mode='auto', period=1)\n",
    "\n",
    "LR = ReduceLROnPlateau(monitor='val_loss', factor=0.5, patience=2, verbose=1, mode='min', epsilon=0.0001, cooldown=0, min_lr=0.00001)\n",
    "callbacks_list = [checkpoint, LR]\n",
    "\n",
    "if (num_train_sequences%batch_size) == 0:\n",
    "    steps_per_epoch = int(num_train_sequences/batch_size)\n",
    "else:\n",
    "    steps_per_epoch = (num_train_sequences//batch_size) + 1\n",
    "\n",
    "if (num_val_sequences%batch_size) == 0:\n",
    "    validation_steps = int(num_val_sequences/batch_size)\n",
    "else:\n",
    "    validation_steps = (num_val_sequences//batch_size) + 1\n",
    "    \n",
    "model.fit_generator(train_generator, steps_per_epoch=steps_per_epoch, epochs=num_epochs, verbose=1, \n",
    "                    callbacks=callbacks_list, validation_data=val_generator, \n",
    "                    validation_steps=validation_steps, class_weight=None, workers=1, initial_epoch=0)"
   ]
  },
  {
   "cell_type": "markdown",
   "metadata": {},
   "source": [
    "### Conclusions\n",
    "* To conclude, a smaller mini-batch size (not too small) usually leads not only to a smaller number of iterations of a training algorithm, than a large batch size, but also to a higher accuracy overall, i.e, a neural network that performs better, in the same amount of training time, or less. Here we find the optimal batch size as 20. Whereas batch size 10 is too small and also need more time for training.\n",
    "* GRU is better than LSTM as it is easy to modify and doesn't need memory units, therefore, faster to train than LSTM and give as per performance.\n",
    "* Conv3D gives better accuracy when compared with LSTM/GRU models\n",
    "* We can **select the Conv3D model with 82% accuracy as our final model for Gesture Recognition**."
   ]
  }
 ],
 "metadata": {
  "kernelspec": {
   "display_name": "Python 3",
   "language": "python",
   "name": "python3"
  },
  "language_info": {
   "codemirror_mode": {
    "name": "ipython",
    "version": 3
   },
   "file_extension": ".py",
   "mimetype": "text/x-python",
   "name": "python",
   "nbconvert_exporter": "python",
   "pygments_lexer": "ipython3",
   "version": "3.6.8"
  }
 },
 "nbformat": 4,
 "nbformat_minor": 2
}
